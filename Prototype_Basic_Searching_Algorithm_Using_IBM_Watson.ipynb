{
  "cells": [
    {
      "cell_type": "code",
      "execution_count": null,
      "metadata": {
        "id": "bLz8ELQhzfV7"
      },
      "outputs": [],
      "source": [
        "!pip install requests\n",
        "!pip install --upgrade \"ibm-watson>=6.1.0\""
      ]
    },
    {
      "cell_type": "code",
      "source": [
        "# Line 11: Replace with your IBM Watson API Key; Line 17: Replace url with your IBM URL\n",
        "\n",
        "# IBM Watson\n",
        "import json\n",
        "from ibm_watson import NaturalLanguageUnderstandingV1\n",
        "from ibm_cloud_sdk_core.authenticators import IAMAuthenticator\n",
        "from ibm_watson.natural_language_understanding_v1 \\\n",
        "    import Features, EntitiesOptions\n",
        "\n",
        "def getEntity(phrase):\n",
        "  authenticator = IAMAuthenticator('{apikey}')\n",
        "  natural_language_understanding = NaturalLanguageUnderstandingV1(\n",
        "      version='2022-04-07',\n",
        "      authenticator=authenticator\n",
        "  )\n",
        "\n",
        "  natural_language_understanding.set_service_url('{url}')\n",
        "\n",
        "  response = natural_language_understanding.analyze(\n",
        "      text=phrase,\n",
        "      features=Features(entities=EntitiesOptions(limit=1))).get_result()\n",
        "\n",
        "  return (json.dumps(response))\n",
        "\n",
        "# Manually checking if an object is in user inputted phrase(can be replaced with advanced machine learning model using custom training data)\n",
        "def planetsMentionedInPhrase(string): \n",
        "  if \"sun\" in (\" \" + string + \" \") or \"Sun\" in (\" \" + string + \" \"):\n",
        "    return \"sun\"\n",
        "  if \"earth\" in (\" \" + string + \" \") or \"Earth\" in (\" \" + string + \" \"):\n",
        "    return \"Earth\"\n",
        "  if \"jupiter\" in (\" \" + string + \" \") or \"Jupiter\" in (\" \" + string + \" \"):\n",
        "    return \"Jupiter\"\n",
        "  if \"saturn\" in (\" \" + string + \" \") or \"Saturn\" in (\" \" + string + \" \"):\n",
        "    return \"Saturn\"\n",
        "  if \"mercury\" in (\" \" + string + \" \") or \"Mercury\" in (\" \" + string + \" \"):\n",
        "    return \"Mercury\"\n",
        "  if \"mars\" in (\" \" + string + \" \") or \"Mars\" in (\" \" + string + \" \"):\n",
        "    return \"Mars\"\n",
        "  if \"venus\" in (\" \" + string + \" \") or \"Venus\" in (\" \" + string + \" \"):\n",
        "    return \"Venus\"\n",
        "  if \"uranus\" in (\" \" + string + \" \") or \"Uranus\" in (\" \" + string + \" \"):\n",
        "    return \"Uranus\"\n",
        "  if \"neptune\" in (\" \" + string + \" \") or \"Neutune\" in (\" \" + string + \" \"):\n",
        "    return \"Neptune\"\n",
        "  if \"pluto\" in (\" \" + string + \" \") or \"Pluto\" in (\" \" + string + \" \"):\n",
        "    return \"Pluto\"\n",
        "  if \"nebula\" in (\" \" + string + \" \") or \"Nebula\" in (\" \" + string + \" \"):\n",
        "    return \"Nebula\"\n",
        "  return string\n",
        "  \n",
        "\n",
        "def entityInPhrase(phrase): # runs IBM watson, returns entity if there is one, returns original phrase if no found\n",
        "  try:\n",
        "    getEntity(phrase)\n",
        "  except:\n",
        "    return planetsMentionedInPhrase(phrase)\n",
        "  ibmWatsonRes = json.loads(getEntity(phrase))     # Runs IBM watson to output entities and converts the string returned to a dictionary\n",
        "  entityRes = ibmWatsonRes['entities']\n",
        "\n",
        "  if len(entityRes) != 0:\n",
        "    return (entityRes[0]['text'])\n",
        "  else:\n",
        "    return planetsMentionedInPhrase(phrase)"
      ],
      "metadata": {
        "id": "THAqOcii-f1-"
      },
      "execution_count": 13,
      "outputs": []
    },
    {
      "cell_type": "code",
      "source": [
        "# v.4 - Given phrase, uses IBM Watson to grab entity if applicable, and runs search and generates all images and respective description (on page 1)\n",
        "import requests\n",
        "import json\n",
        "from IPython.display import Image\n",
        "\n",
        "# gets user input and stores as search input to be searched in data base\n",
        "userInput = input(\"Design a Prompt: \")\n",
        "objectSearchingFor = entityInPhrase(userInput)  # Parses user input to only the object user wants image of\n",
        "parameters = {\n",
        "    \"q\": objectSearchingFor # sends the user desired object to the search parameter\n",
        "}\n",
        "\n",
        "# gets the data from nasa API\n",
        "response = requests.get(\"https://images-api.nasa.gov/search?q={q}\", params=parameters)\n",
        "\n",
        "# Creates empty lists to store image link and respective description\n",
        "imageLinksArray = []\n",
        "imageDescription = []\n",
        "\n",
        "# Filters through the list to hone in on only images and stores their links to array\n",
        "for i in range(len(response.json()['collection']['items'])):\n",
        "  dataType = response.json()['collection']['items'][i]['data'][0]['media_type']\n",
        "  if dataType == \"image\":\n",
        "    imageLink = response.json()['collection']['items'][i]['links'][0]['href']\n",
        "    imageLinksArray.append(imageLink)\n",
        "\n",
        "    imageDesc = response.json()['collection']['items'][i]['data'][0]['description']\n",
        "    imageDescription.append(imageDesc)\n",
        "  else:\n",
        "    i+=1\n",
        "\n",
        "# Prints out some basic info: the full links and number of links\n",
        "print(\"Number of images found: \" + str(len(imageLinksArray)))\n",
        "\n",
        "# Verifies if there are any matches with user input\n",
        "if len(imageLinksArray) != 0: # If there is at least one find\n",
        "  # Displays all images in imageLinksArray and all respecitve descriptions in ImageDescription\n",
        "  for i in range(len(imageLinksArray)):\n",
        "    display(Image(imageLinksArray[i]))\n",
        "    print(imageDescription[i])\n",
        "    print()\n",
        "else:\n",
        "  print(\"No match :( Please try a different phrase\")"
      ],
      "metadata": {
        "id": "BsUZlIjO-m2v"
      },
      "execution_count": null,
      "outputs": []
    }
  ],
  "metadata": {
    "colab": {
      "collapsed_sections": [],
      "provenance": [],
      "toc_visible": true
    },
    "kernelspec": {
      "display_name": "Python 3",
      "name": "python3"
    },
    "language_info": {
      "name": "python"
    }
  },
  "nbformat": 4,
  "nbformat_minor": 0
}