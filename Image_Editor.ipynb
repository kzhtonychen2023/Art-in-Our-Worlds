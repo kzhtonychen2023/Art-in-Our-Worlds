{
  "nbformat": 4,
  "nbformat_minor": 0,
  "metadata": {
    "colab": {
      "provenance": [],
      "collapsed_sections": []
    },
    "kernelspec": {
      "name": "python3",
      "display_name": "Python 3"
    },
    "language_info": {
      "name": "python"
    }
  },
  "cells": [
    {
      "cell_type": "code",
      "source": [
        "!wget https://images-assets.nasa.gov/image/as11-40-5874/as11-40-5874~thumb.jpg # sample url to image link"
      ],
      "metadata": {
        "colab": {
          "base_uri": "https://localhost:8080/"
        },
        "id": "LKg1Kxnsobst",
        "outputId": "898811f8-677e-490e-89e1-37c42860cba8"
      },
      "execution_count": null,
      "outputs": [
        {
          "output_type": "stream",
          "name": "stdout",
          "text": [
            "--2022-10-02 03:17:49--  https://images-assets.nasa.gov/image/as11-40-5874/as11-40-5874~thumb.jpg\n",
            "Resolving images-assets.nasa.gov (images-assets.nasa.gov)... 99.84.252.14, 99.84.252.123, 99.84.252.91, ...\n",
            "Connecting to images-assets.nasa.gov (images-assets.nasa.gov)|99.84.252.14|:443... connected.\n",
            "HTTP request sent, awaiting response... 200 OK\n",
            "Length: 74132 (72K) [image/jpeg]\n",
            "Saving to: ‘as11-40-5874~thumb.jpg.4’\n",
            "\n",
            "as11-40-5874~thumb. 100%[===================>]  72.39K  --.-KB/s    in 0.02s   \n",
            "\n",
            "2022-10-02 03:17:50 (2.98 MB/s) - ‘as11-40-5874~thumb.jpg.4’ saved [74132/74132]\n",
            "\n"
          ]
        }
      ]
    },
    {
      "cell_type": "code",
      "source": [
        "from PIL import Image, ImageFilter, ImageEnhance\n",
        "filename = \"as11-40-5874~thumb.jpg\" # replace with file name\n",
        "with Image.open(filename) as img:\n",
        "\timg.load()\n",
        "\n",
        "new_img = img\n",
        "\n",
        "userInputRotate = input(\"How much degrees do you want to rotate the image: \")\n",
        "new_img = new_img.rotate(int(userInputRotate))\n",
        "\n",
        "userInputBlur = input(\"Would you like to blur the image? (y/n): \")\n",
        "if userInputBlur == \"y\":\n",
        "\tnew_img = new_img.filter(ImageFilter.BLUR)\n",
        "\n",
        "userInputSharpen = input(\"Would you like to sharpen the image? (y/n): \")\n",
        "if userInputSharpen == \"y\":\n",
        "\tnew_img = new_img.filter(ImageFilter.SHARPEN)\n",
        " \n",
        "userInputGrayFilter = input(\"Would you like to add a gray filter? (y/n): \")\n",
        "if userInputGrayFilter == \"y\":\n",
        "\tnew_img = new_img.convert(\"L\")\n",
        "\n",
        "userInputDisplayEdges = input(\"Would you like to display the edges? (y/n): \")\n",
        "if userInputDisplayEdges == \"y\":\n",
        "\tnew_img = new_img.convert(\"L\")\n",
        "\tnew_img = new_img.filter(ImageFilter.SMOOTH)\n",
        "\tnew_img = new_img.filter(ImageFilter.FIND_EDGES)\n",
        " \n",
        "userInputBrightness = input(\"Would you like to change the brightness? (0-2, 1 being original): \")\n",
        "new_img = ImageEnhance.Brightness(new_img).enhance(float(userInputBrightness))\n",
        "\n",
        "userInputContrast = input(\"Would you like to change the contrast? (0-2, 1 being original): \")\n",
        "new_img = ImageEnhance.Contrast(new_img).enhance(float(userInputContrast))\n",
        "\n",
        "print()\n",
        "print(\"Original Image: \")\n",
        "display(img)\n",
        "print()\n",
        "print(\"Modified Image: \")\n",
        "display(new_img)"
      ],
      "metadata": {
        "id": "WVh-ezj1eNTL"
      },
      "execution_count": null,
      "outputs": []
    }
  ]
}
